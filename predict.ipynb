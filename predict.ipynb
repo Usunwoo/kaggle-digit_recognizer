{
 "cells": [
  {
   "cell_type": "code",
   "execution_count": 1,
   "metadata": {},
   "outputs": [],
   "source": [
    "import numpy as np\n",
    "import pandas as pd\n",
    "import torch\n",
    "\n",
    "from classification.models.cnn import CNNClassifier\n",
    "from classification.models.rnn import RNNClassifier\n",
    "from classification.models.lstm import LSTMClassifier\n"
   ]
  },
  {
   "cell_type": "code",
   "execution_count": 2,
   "metadata": {},
   "outputs": [],
   "source": [
    "model_fn = \"./lstm.pth\""
   ]
  },
  {
   "cell_type": "code",
   "execution_count": 3,
   "metadata": {},
   "outputs": [],
   "source": [
    "device = torch.device('cuda') if torch.cuda.is_available() else torch.device('cpu')"
   ]
  },
  {
   "cell_type": "code",
   "execution_count": 4,
   "metadata": {},
   "outputs": [],
   "source": [
    "def load_data():\n",
    "    test_df = pd.read_csv(\"./data/test.csv\")\n",
    "    test_X = torch.tensor(test_df.values) / 255\n",
    "    \n",
    "    return test_X"
   ]
  },
  {
   "cell_type": "code",
   "execution_count": 5,
   "metadata": {},
   "outputs": [],
   "source": [
    "def load_model(model_fn, device):\n",
    "    model = torch.load(model_fn, map_location=device)\n",
    "\n",
    "    return model['model'], model['config']"
   ]
  },
  {
   "cell_type": "code",
   "execution_count": 6,
   "metadata": {},
   "outputs": [],
   "source": [
    "def test(model, x, config):\n",
    "    model.eval()\n",
    "\n",
    "    test_pred = []\n",
    "    with torch.no_grad():\n",
    "        test_X_ = x.split(config.batch_size, dim=0)\n",
    "\n",
    "        for x_i in test_X_:\n",
    "            y_pred = model(x_i)\n",
    "            test_pred.append(y_pred)\n",
    "\n",
    "    test_pred = torch.cat(test_pred, dim=0)\n",
    "    \n",
    "    return test_pred"
   ]
  },
  {
   "cell_type": "code",
   "execution_count": 7,
   "metadata": {},
   "outputs": [],
   "source": [
    "test_X = load_data().reshape(-1, 28, 28).to(device)\n",
    "state_dict, config = load_model(model_fn, device)\n",
    "\n",
    "model = LSTMClassifier(\n",
    "    input_size=28,\n",
    "    hidden_size=config.hidden_size,\n",
    "    output_size=10,\n",
    "    n_layers=config.n_layers,\n",
    "    dropout_p=config.dropout_p,\n",
    ").to(device)\n",
    "model.load_state_dict(state_dict)\n",
    "\n",
    "test_pred = test(model, test_X, config)"
   ]
  },
  {
   "cell_type": "code",
   "execution_count": 8,
   "metadata": {},
   "outputs": [],
   "source": [
    "pred_df = pd.DataFrame({\n",
    "        \"ImageId\": np.arange(test_X.size(0)) + 1,\n",
    "        \"Label\": torch.argmax(test_pred, dim=-1).cpu().numpy()\n",
    "    })\n",
    "pred_df.to_csv('./submissions/lstm.csv', index=False)"
   ]
  },
  {
   "cell_type": "code",
   "execution_count": null,
   "metadata": {},
   "outputs": [],
   "source": []
  }
 ],
 "metadata": {
  "kernelspec": {
   "display_name": "coding",
   "language": "python",
   "name": "python3"
  },
  "language_info": {
   "codemirror_mode": {
    "name": "ipython",
    "version": 3
   },
   "file_extension": ".py",
   "mimetype": "text/x-python",
   "name": "python",
   "nbconvert_exporter": "python",
   "pygments_lexer": "ipython3",
   "version": "3.10.11"
  },
  "orig_nbformat": 4
 },
 "nbformat": 4,
 "nbformat_minor": 2
}
